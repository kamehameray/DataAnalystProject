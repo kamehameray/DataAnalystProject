{
 "cells": [
  {
   "cell_type": "markdown",
   "metadata": {},
   "source": [
    "# Markdown Syntax"
   ]
  },
  {
   "cell_type": "markdown",
   "metadata": {},
   "source": [
    "## HoOOOes in da houuuuse\n",
    "> **Comment Indent**: Markdown is so cool\n",
    "\n",
    "[Goooogs](http://www.google.com)\n",
    "\t\n",
    "1. Ordered list#1\n",
    "2. Ordered list 2\n",
    " * unordered\n",
    " + unordered 2\n",
    " \n",
    "```python\n",
    "s = \"Python syntax highlighting\"\n",
    "print s\n",
    "heres some fake ass code\n",
    "```\n",
    "\n",
    "|lets | make | a table |\n",
    "| --- | --- | --- |\n",
    "| *Still* | `renders` | **nicely** |\n"
   ]
  },
  {
   "cell_type": "code",
   "execution_count": null,
   "metadata": {
    "collapsed": true
   },
   "outputs": [],
   "source": []
  },
  {
   "cell_type": "code",
   "execution_count": null,
   "metadata": {
    "collapsed": true
   },
   "outputs": [],
   "source": []
  }
 ],
 "metadata": {
  "kernelspec": {
   "display_name": "Python 3",
   "language": "python",
   "name": "python3"
  },
  "language_info": {
   "codemirror_mode": {
    "name": "ipython",
    "version": 3
   },
   "file_extension": ".py",
   "mimetype": "text/x-python",
   "name": "python",
   "nbconvert_exporter": "python",
   "pygments_lexer": "ipython3",
   "version": "3.5.1"
  }
 },
 "nbformat": 4,
 "nbformat_minor": 0
}
