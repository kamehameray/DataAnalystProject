{
 "cells": [
  {
   "cell_type": "markdown",
   "metadata": {},
   "source": [
    "# Statistics: The Science of Decisions Project\n",
    "\n",
    "2016/9/28\n",
    "Ray Kameda\n",
    "\n",
    "## Questions For Investigation\n",
    "\n",
    "1. **What is our independent variable? What is our dependent variable?**\n",
    "    * Independent Variable: Congruent condition (congruent or incongruent)\n",
    "    * Dependent Variable: time for name the color    \n",
    "                   \n",
    "2. **What is an appropriate set of hypotheses for this task? What kind of statistical test do you expect to perform? Justify your choices.**\n",
    "    * Paired t-test\n",
    "        * A paired t-test is appropriate when the experimental design has before-and-after pairs of measurements and and this is the case in this experiment because the result of each row of congruent and incongruent tests was done by unique participants.\n",
    "        * A t-score test is chosen here because 1) the sample size is less than 30 and the population mean is unknown. Otherwise a z-score test would be appropriate.\n",
    "        * The assumptions of a t-test with dependent means below are all met\n",
    "            1. Interval or ratio scale of measurement (approximately interval)\n",
    "                * data are all interval\n",
    "            2. Random sampling from a defined population\n",
    "                * Sampling for both congruent and incongruent is assumed to b random\n",
    "            3. Samples or sets of data used to produce the difference scores are linked in the population through repeated measurement, natural association, or matching\n",
    "                * Each sample pair of congruent and incongruent data is by a unique individual\n",
    "            4. Scores are normally distributed in the population; difference scores are normally distributed\n",
    "                * The differences between congruent and incongruent were just barely normally distributed according to the Shapiro-Wilks test (P = 0.036)\n",
    "    * Where $\\mu_{difference}$ is the difference between the average population response time of the congruent and incongruent groups;\n",
    "        * Null Hypothesis: The difference between the response time of congruent and incongruent group population means is not different\n",
    "            * $ H_{0}:  \\mu_{difference} = 0 $\n",
    "        * Alternative Hypothesis: The difference between the response time for congruent and incongruent population mean is not equal to zero. This hypothesis was chosen because we would still be interested in the possiblity where the incongruent mean time is less than the population mean response time of the congruent group.\n",
    "            * $ H_{1}:  \\mu_{difference} \\neq 0 $ \n",
    "\n",
    "3. **Report some descriptive statistics regarding this dataset. Include at least one measure of central tendency and at least one measure of variability.** \n",
    "\n",
    "    * Descriptive Statistics for the Congruent times:\n",
    "        * Mean: 14.051\n",
    "        * Standard Deviation: 3.559\n",
    "    * Descriptive Statistics for the Incongruent times:\n",
    "        * Mean: 22.016\n",
    "        * Standard Deviation: 4.797"
   ]
  },
  {
   "cell_type": "code",
   "execution_count": 71,
   "metadata": {
    "collapsed": false
   },
   "outputs": [],
   "source": [
    "# import packages\n",
    "import csv\n",
    "import numpy as np\n",
    "import pandas as pd\n",
    "import os\n",
    "from IPython.display import display\n",
    "from scipy import stats, integrate\n",
    "import matplotlib.pyplot as plt\n",
    "import unicodecsv\n",
    "import seaborn as sns\n",
    "sns.set(color_codes=True)\n",
    "%matplotlib inline\n",
    "\n",
    "\n",
    "name = \"\"\n",
    "con = []\n",
    "inc = []\n",
    "diff = []\n",
    "\n",
    "#read/parse stroopdata\n",
    "with open(\"stroopdata.csv\") as f:\n",
    "    reader = csv.reader(f, delimiter = ',') \n",
    "    name = next(reader)\n",
    "    \n",
    "    for row in reader:\n",
    "        cono = float(row[0])\n",
    "        inco = float(row[1])\n",
    "        diffo = cono-inco\n",
    "        \n",
    "        con.append(cono)\n",
    "        inc.append(inco)\n",
    "        diff.append(diffo)\n",
    "        \n",
    "df = pd.DataFrame()\n",
    "with open(\"stroopdata.csv\",\"rb\") as f:\n",
    "    reader = unicodecsv.reader(f)\n",
    "    name = next(reader)\n",
    "    data = list(reader)\n",
    "    df['Congruent'] = [float(x[0]) for x in data]\n",
    "    df['Incongruent'] = [float(x[1]) for x in data]"
   ]
  },
  {
   "cell_type": "markdown",
   "metadata": {},
   "source": [
    "   4.. **Provide one or two visualizations that show the distribution of the sample data. Write one or two sentences noting what you observe about the plot or plots.**\n",
    "   * Below are the histograms of the Congruent and Incongruent distribution (Blue, green respectively)\n",
    "       * You can see that the distribution of the incongruent data are in generally longer in \"time\" than the congruent data.\n"
   ]
  },
  {
   "cell_type": "code",
   "execution_count": 72,
   "metadata": {
    "collapsed": false
   },
   "outputs": [
    {
     "data": {
      "text/plain": [
       "<matplotlib.axes._subplots.AxesSubplot at 0x11cbc56d8>"
      ]
     },
     "execution_count": 72,
     "metadata": {},
     "output_type": "execute_result"
    },
    {
     "data": {
      "image/png": "[encoded data removed]",
      "text/plain": [
       "<matplotlib.figure.Figure at 0x11b8a5438>"
      ]
     },
     "metadata": {},
     "output_type": "display_data"
    }
   ],
   "source": [
    "sns.boxplot(df['Congruent'])"
   ]
  },
  {
   "cell_type": "code",
   "execution_count": 73,
   "metadata": {
    "collapsed": false
   },
   "outputs": [
    {
     "data": {
      "text/plain": [
       "<matplotlib.axes._subplots.AxesSubplot at 0x11cbc6da0>"
      ]
     },
     "execution_count": 73,
     "metadata": {},
     "output_type": "execute_result"
    },
    {
     "data": {
      "image/png": "[encoded data removed]",
      "text/plain": [
       "<matplotlib.figure.Figure at 0x11ce48e48>"
      ]
     },
     "metadata": {},
     "output_type": "display_data"
    }
   ],
   "source": [
    "sns.boxplot(df['Incongruent'])"
   ]
  },
  {
   "cell_type": "markdown",
   "metadata": {},
   "source": [
    "\n",
    "* Below are the histograms of the Congruent and Incongruent distribution (Blue, green respectively)\n",
    "    * You can see that the distribution of the incongruent data are in generally longer in \"time\" than the congruent data"
   ]
  },
  {
   "cell_type": "code",
   "execution_count": 5,
   "metadata": {
    "collapsed": false
   },
   "outputs": [
    {
     "data": {
      "text/plain": [
       "<matplotlib.axes._subplots.AxesSubplot at 0x11ab44c88>"
      ]
     },
     "execution_count": 5,
     "metadata": {},
     "output_type": "execute_result"
    },
    {
     "data": {
      "image/png": "[encoded data removed]",
      "text/plain": [
       "<matplotlib.figure.Figure at 0x11ab55908>"
      ]
     },
     "metadata": {},
     "output_type": "display_data"
    }
   ],
   "source": [
    "sns.distplot(con, kde=False, label=\"Congruent\")\n",
    "sns.distplot(inc, kde=False, label=\"Incongruent\")"
   ]
  },
  {
   "cell_type": "markdown",
   "metadata": {},
   "source": [
    "   * Below is a histogram of the differences between Congruent and Incongruent\n",
    "        * There are only a few (2 to be exact) that were very large differences between the congruent and incongruent. But all differences were < 0."
   ]
  },
  {
   "cell_type": "code",
   "execution_count": 3,
   "metadata": {
    "collapsed": false
   },
   "outputs": [
    {
     "data": {
      "text/plain": [
       "<matplotlib.axes._subplots.AxesSubplot at 0x1042066a0>"
      ]
     },
     "execution_count": 3,
     "metadata": {},
     "output_type": "execute_result"
    },
    {
     "data": {
      "image/png": "[encoded data removed]",
      "text/plain": [
       "<matplotlib.figure.Figure at 0x10421d3c8>"
      ]
     },
     "metadata": {},
     "output_type": "display_data"
    }
   ],
   "source": [
    "sns.distplot(diff, kde=False, bins = 10, label=\"Difference\")"
   ]
  },
  {
   "cell_type": "markdown",
   "metadata": {
    "collapsed": true
   },
   "source": [
    "5.. **Now, perform the statistical test and report your results. What is your confidence level and your critical statistic value? Do you reject the null hypothesis or fail to reject it? Come to a conclusion in terms of the experiment task. Did the results match up with your expectations?**\n",
    "\n",
    "   * two-tailed paired t-test (df = 23)\n",
    "   * Significance level: $ \\alpha = 0.05$\n",
    "   * Confidence level: 95%\n",
    "   * Critical T statistic: $\\pm 2.069$\n",
    "   \n",
    "Conclusion: Reject $H_0$;\n",
    "There was a significant difference in the times for congruent (M= 14.05, SD=3.56) and incongruent (M=22.02, SD=4.80) test conditions; t(23)=-8.021, p < 0.0005.\n",
    "\n",
    "The results matched my expectation because it is much harder to identify the color when the text is incongruent and  incongruent times were longer for every sample pair.\n",
    "\n",
    "6.. **Optional: What do you think is responsible for the effects observed? Can you think of an alternative or similar task that would result in a similar effect? Some research about the problem will be helpful for thinking about these two questions!**\n",
    "\n",
    "The stroop effect is probably due to the effect of cognitive dissonance that happens when the mind expects the color to match the meaning of the word. There are several different variations of the stroop effect. One example is a numerical stroop effect where the test subject must identify which number is numerically larger when the smaller number has a larger physical size."
   ]
  },
  {
   "cell_type": "markdown",
   "metadata": {
    "collapsed": true
   },
   "source": [
    "**References:**\n",
    "* The python code was made partly by borrowing from the Bay Area Bike Share Analysis project, and looking up seaborn documentation https://stanford.edu/~mwaskom/software/seaborn/generated/seaborn.distplot.html#seaborn.distplot\n",
    "* For the mathematical symbols I used LaTEX https://en.wikibooks.org/wiki/LaTeX/Mathematics\n",
    "* I referenced lessons in the udacity statistics course and referenced the t-table https://s3.amazonaws.com/udacity-hosted-downloads/t-table.jpg\n",
    "* To check my statistical test analysis/result that I calculated in a spreadsheet, i used http://www.graphpad.com/quickcalcs/ttest2/"
   ]
  },
  {
   "cell_type": "code",
   "execution_count": null,
   "metadata": {
    "collapsed": true
   },
   "outputs": [],
   "source": []
  }
 ],
 "metadata": {
  "anaconda-cloud": {},
  "kernelspec": {
   "display_name": "Python [Root]",
   "language": "python",
   "name": "Python [Root]"
  },
  "language_info": {
   "codemirror_mode": {
    "name": "ipython",
    "version": 2
   },
   "file_extension": ".py",
   "mimetype": "text/x-python",
   "name": "python",
   "nbconvert_exporter": "python",
   "pygments_lexer": "ipython2",
   "version": "2.7.12"
  }
 },
 "nbformat": 4,
 "nbformat_minor": 0
}
